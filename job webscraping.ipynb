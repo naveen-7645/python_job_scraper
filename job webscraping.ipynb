{
 "cells": [
  {
   "cell_type": "code",
   "execution_count": 1,
   "id": "621b2e11-9505-4b27-92d4-fddeab0945c5",
   "metadata": {},
   "outputs": [],
   "source": [
    "from bs4 import BeautifulSoup"
   ]
  },
  {
   "cell_type": "code",
   "execution_count": 2,
   "id": "97f07cd8-6148-46cf-a8c0-707b96343243",
   "metadata": {},
   "outputs": [],
   "source": [
    "import requests\n",
    "import time"
   ]
  },
  {
   "cell_type": "code",
   "execution_count": null,
   "id": "bdb17f4c-eb7d-4b15-8c45-7b65bcccfcb3",
   "metadata": {},
   "outputs": [],
   "source": [
    "#input by user unfamiliar skill\n",
    "print('put some skills that youre not familiar with')\n",
    "unfamiliar_skills_input=input('>')\n",
    "unfamiliar_skills=[skill.strip().lower() for skill in unfamiliar_skills_input.split(',')]\n",
    "print(f'Filtering out jobs requiring any of these skills: {\", \".join(unfamiliar_skills)}')\n",
    "#print(f'filtering out {unfamiliar_skill}')\n",
    "def find_jobs():\n",
    "    html_text=requests.get('https://www.timesjobs.com/candidate/job-search.html?searchType=personalizedSearch&from=submit&searchTextSrc=ft&searchTextText=&txtKeywords=python&cboWorkExp1=-1&txtLocation=india').text\n",
    "    #print(html_text)\n",
    "    soup=BeautifulSoup(html_text,'lxml')\n",
    "    #print(soup.prettify())\n",
    "    jobs=soup.find_all('li', class_='clearfix job-bx wht-shd-bx')\n",
    "    for job in jobs:\n",
    "        job_published_date=job.find('span',class_='sim-posted').span.text\n",
    "        if 'few' in job_published_date:\n",
    "            company_name=job.find('h3',class_='joblist-comp-name').get_text(strip=True) #get_text(strip=True) used to remove extra space between company name and required skills\n",
    "            skills=' '.join(job.find('div',class_='srp-skills').text.split())\n",
    "            more_info=job.header.h2.a['href']\n",
    "            if not any(skill in skills for skill in unfamiliar_skills):\n",
    "                print(f'Company Name:{company_name}')\n",
    "                print(f'Required Skills:{skills}')\n",
    "                print(f'job published Date:{job_published_date}')\n",
    "                print(f'more info:{more_info}')\n",
    "                print('')\n",
    "if __name__=='__main__':\n",
    "    \n",
    "    while True:\n",
    "        print('fetching new jobs...')\n",
    "        find_jobs()\n",
    "        print('Waiting for 10 minutes...\\n')\n",
    "        time.sleep(600)  # 600 seconds = 10 minutes\n",
    "\n",
    "    \n",
    "\n"
   ]
  },
  {
   "cell_type": "code",
   "execution_count": null,
   "id": "05fc4986-b863-484a-a959-f5496d6116fa",
   "metadata": {},
   "outputs": [],
   "source": []
  }
 ],
 "metadata": {
  "kernelspec": {
   "display_name": "Python 3 (ipykernel)",
   "language": "python",
   "name": "python3"
  },
  "language_info": {
   "codemirror_mode": {
    "name": "ipython",
    "version": 3
   },
   "file_extension": ".py",
   "mimetype": "text/x-python",
   "name": "python",
   "nbconvert_exporter": "python",
   "pygments_lexer": "ipython3",
   "version": "3.12.7"
  }
 },
 "nbformat": 4,
 "nbformat_minor": 5
}
